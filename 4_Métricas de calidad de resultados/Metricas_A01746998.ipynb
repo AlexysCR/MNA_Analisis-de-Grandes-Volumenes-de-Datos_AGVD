{
 "cells": [
  {
   "cell_type": "markdown",
   "metadata": {
    "id": "lNl8G3vHkPSX"
   },
   "source": [
    "# **Maestría en Inteligencia Artificial Aplicada**\n",
    "\n",
    "## Curso: **Análisis de grandes volúmenes de datos (Gpo 10)**\n",
    "\n",
    "### Tecnológico de Monterrey\n",
    "\n",
    "## **Actividad 4**\n",
    "\n",
    "###  *Métricas de calidad de resultados*\n"
   ]
  },
  {
   "cell_type": "markdown",
   "metadata": {
    "id": "U69mHA6i201G"
   },
   "source": [
    "#### **Nombrey matrícula**\n",
    "\n",
    "*   **A01746998** - Alexys Martín Coate Reyes\n"
   ]
  },
  {
   "cell_type": "markdown",
   "metadata": {
    "id": "4c34ZOnna3Gu"
   },
   "source": [
    "# **1. Construcción de la muestra M**\n",
    "\n"
   ]
  },
  {
   "cell_type": "markdown",
   "metadata": {
    "id": "d99IfLm-Kvgk"
   },
   "source": [
    "### Cargando los datos"
   ]
  },
  {
   "cell_type": "code",
   "execution_count": 1,
   "metadata": {
    "id": "EWqkks-FKvgk"
   },
   "outputs": [],
   "source": [
    "# Librerias\n",
    "from pyspark.sql import SparkSession"
   ]
  },
  {
   "cell_type": "code",
   "execution_count": 2,
   "metadata": {
    "colab": {
     "base_uri": "https://localhost:8080/"
    },
    "id": "_-sM5wAiKvgl",
    "outputId": "2e9e6660-2a27-4401-fea2-eb3df2e7afc0"
   },
   "outputs": [
    {
     "name": "stdout",
     "output_type": "stream",
     "text": [
      "root\n",
      " |-- FL_DATE: date (nullable = true)\n",
      " |-- OP_CARRIER: string (nullable = true)\n",
      " |-- OP_CARRIER_FL_NUM: integer (nullable = true)\n",
      " |-- ORIGIN: string (nullable = true)\n",
      " |-- DEST: string (nullable = true)\n",
      " |-- CRS_DEP_TIME: integer (nullable = true)\n",
      " |-- DEP_TIME: double (nullable = true)\n",
      " |-- DEP_DELAY: double (nullable = true)\n",
      " |-- TAXI_OUT: double (nullable = true)\n",
      " |-- WHEELS_OFF: double (nullable = true)\n",
      " |-- WHEELS_ON: double (nullable = true)\n",
      " |-- TAXI_IN: double (nullable = true)\n",
      " |-- CRS_ARR_TIME: integer (nullable = true)\n",
      " |-- ARR_TIME: double (nullable = true)\n",
      " |-- ARR_DELAY: double (nullable = true)\n",
      " |-- CANCELLED: double (nullable = true)\n",
      " |-- DIVERTED: double (nullable = true)\n",
      " |-- CRS_ELAPSED_TIME: double (nullable = true)\n",
      " |-- ACTUAL_ELAPSED_TIME: double (nullable = true)\n",
      " |-- AIR_TIME: double (nullable = true)\n",
      " |-- DISTANCE: double (nullable = true)\n",
      "\n",
      "Número total de registros: 18505725\n"
     ]
    }
   ],
   "source": [
    "# Crear sesión Spark\n",
    "spark = SparkSession.builder \\\n",
    "    .appName(\"EDA_Vuelos\") \\\n",
    "    .getOrCreate()\n",
    "\n",
    "# Leer el CSV\n",
    "df = spark.read.csv(\"../Dataset/Airline_Delay_2016-2018.csv\", header=True, inferSchema=True)\n",
    "\n",
    "# Mostrar esquema de datos\n",
    "df.printSchema()\n",
    "\n",
    "# Número total de registros\n",
    "df_count = df.count()\n",
    "print(f\"Número total de registros: {df_count}\")"
   ]
  },
  {
   "cell_type": "code",
   "execution_count": 3,
   "metadata": {
    "colab": {
     "base_uri": "https://localhost:8080/"
    },
    "id": "-d0qHEIuKvgl",
    "outputId": "a0d6faa7-b27f-452e-f835-0d7fe21c1c5d"
   },
   "outputs": [
    {
     "name": "stdout",
     "output_type": "stream",
     "text": [
      "+----------+----------+-----------------+------+----+------------+--------+---------+--------+----------+---------+-------+------------+--------+---------+---------+--------+----------------+-------------------+--------+--------+\n",
      "|   FL_DATE|OP_CARRIER|OP_CARRIER_FL_NUM|ORIGIN|DEST|CRS_DEP_TIME|DEP_TIME|DEP_DELAY|TAXI_OUT|WHEELS_OFF|WHEELS_ON|TAXI_IN|CRS_ARR_TIME|ARR_TIME|ARR_DELAY|CANCELLED|DIVERTED|CRS_ELAPSED_TIME|ACTUAL_ELAPSED_TIME|AIR_TIME|DISTANCE|\n",
      "+----------+----------+-----------------+------+----+------------+--------+---------+--------+----------+---------+-------+------------+--------+---------+---------+--------+----------------+-------------------+--------+--------+\n",
      "|2016-01-01|        DL|             1248|   DTW| LAX|        1935|  1935.0|      0.0|    23.0|    1958.0|   2107.0|   13.0|        2144|  2120.0|    -24.0|      0.0|     0.0|           309.0|              285.0|   249.0|  1979.0|\n",
      "|2016-01-01|        DL|             1251|   ATL| GRR|        2125|  2130.0|      5.0|    13.0|    2143.0|   2315.0|    4.0|        2321|  2319.0|     -2.0|      0.0|     0.0|           116.0|              109.0|    92.0|   640.0|\n",
      "|2016-01-01|        DL|             1254|   LAX| ATL|        2255|  2256.0|      1.0|    19.0|    2315.0|    542.0|    5.0|         600|   547.0|    -13.0|      0.0|     0.0|           245.0|              231.0|   207.0|  1947.0|\n",
      "+----------+----------+-----------------+------+----+------------+--------+---------+--------+----------+---------+-------+------------+--------+---------+---------+--------+----------------+-------------------+--------+--------+\n",
      "only showing top 3 rows\n",
      "\n"
     ]
    }
   ],
   "source": [
    "# Imprimiendo los 3 primeros rengloes del dataframe dataframe\n",
    "df.show(3)"
   ]
  },
  {
   "cell_type": "markdown",
   "metadata": {
    "id": "HppPF0nLeHTu"
   },
   "source": [
    "De acuerdo con los datos analizados anteriormente concluimos que podemos crear un modelo que regresión que prediga el retraso de los aviones, teniendo como variable objetivo ARR_DELAY.\n",
    "\n",
    "Conforme a esto procedemos a realizar la selección de variables de caracterización para este problema, que consiste en seleccionar las varibles más importantes para la modelación del problema."
   ]
  },
  {
   "cell_type": "markdown",
   "metadata": {
    "id": "X_f3uOrzpDxs"
   },
   "source": [
    "### Analizando los distintos tipos de datos dentro del dataframe"
   ]
  },
  {
   "cell_type": "code",
   "execution_count": 4,
   "metadata": {},
   "outputs": [
    {
     "name": "stdout",
     "output_type": "stream",
     "text": [
      "=== Conteo de CANCELLED ===\n",
      "+---------+--------+\n",
      "|CANCELLED|   count|\n",
      "+---------+--------+\n",
      "|      0.0|18240587|\n",
      "|      1.0|  265138|\n",
      "+---------+--------+\n",
      "\n",
      "=== Conteo de DIVERTED ===\n",
      "+--------+--------+\n",
      "|DIVERTED|   count|\n",
      "+--------+--------+\n",
      "|     0.0|18461684|\n",
      "|     1.0|   44041|\n",
      "+--------+--------+\n",
      "\n"
     ]
    }
   ],
   "source": [
    "# Conteo de CANCELLED\n",
    "print(\"=== Conteo de CANCELLED ===\")\n",
    "df.groupBy(\"CANCELLED\").count().show()\n",
    "\n",
    "# Conteo de DIVERTED\n",
    "print(\"=== Conteo de DIVERTED ===\")\n",
    "df.groupBy(\"DIVERTED\").count().show()"
   ]
  },
  {
   "cell_type": "code",
   "execution_count": 5,
   "metadata": {},
   "outputs": [
    {
     "name": "stdout",
     "output_type": "stream",
     "text": [
      "📊 Estadísticas Descriptivas Generales:\n",
      "\n",
      "\n",
      "📌 Columna: FL_DATE  |  Tipo: date\n",
      "--------------------------------------------------\n",
      "Valores únicos: 1096 / 18505725\n",
      "Top 5 valores más frecuentes:\n",
      "+----------+-----+\n",
      "|   FL_DATE|count|\n",
      "+----------+-----+\n",
      "|2018-11-25|22160|\n",
      "|2018-07-13|22022|\n",
      "|2018-07-20|22002|\n",
      "|2018-07-27|21997|\n",
      "|2018-08-03|21990|\n",
      "+----------+-----+\n",
      "only showing top 5 rows\n",
      "\n",
      "\n",
      "📌 Columna: OP_CARRIER  |  Tipo: string\n",
      "--------------------------------------------------\n",
      "Valores únicos: 18 / 18505725\n",
      "Top 5 valores más frecuentes:\n",
      "+----------+-------+\n",
      "|OP_CARRIER|  count|\n",
      "+----------+-------+\n",
      "|        WN|3981440|\n",
      "|        DL|2795589|\n",
      "|        AA|2727661|\n",
      "|        OO|2086597|\n",
      "|        UA|1751113|\n",
      "+----------+-------+\n",
      "only showing top 5 rows\n",
      "\n",
      "\n",
      "📌 Columna: OP_CARRIER_FL_NUM  |  Tipo: int\n",
      "--------------------------------------------------\n",
      "+-------+------------------+\n",
      "|summary| OP_CARRIER_FL_NUM|\n",
      "+-------+------------------+\n",
      "|  count|          18505725|\n",
      "|   mean| 2304.635922451025|\n",
      "| stddev|1792.0299765876953|\n",
      "|    min|                 1|\n",
      "|    25%|               803|\n",
      "|    50%|              1820|\n",
      "|    75%|              3554|\n",
      "|    max|              8402|\n",
      "+-------+------------------+\n",
      "\n",
      "\n",
      "📌 Columna: ORIGIN  |  Tipo: string\n",
      "--------------------------------------------------\n",
      "Valores únicos: 362 / 18505725\n",
      "Top 5 valores más frecuentes:\n",
      "+------+-------+\n",
      "|ORIGIN|  count|\n",
      "+------+-------+\n",
      "|   ATL|1139076|\n",
      "|   ORD| 843495|\n",
      "|   DEN| 685290|\n",
      "|   DFW| 656555|\n",
      "|   LAX| 648766|\n",
      "+------+-------+\n",
      "only showing top 5 rows\n",
      "\n",
      "\n",
      "📌 Columna: DEST  |  Tipo: string\n",
      "--------------------------------------------------\n",
      "Valores únicos: 360 / 18505725\n",
      "Top 5 valores más frecuentes:\n",
      "+----+-------+\n",
      "|DEST|  count|\n",
      "+----+-------+\n",
      "| ATL|1138927|\n",
      "| ORD| 843208|\n",
      "| DEN| 685479|\n",
      "| DFW| 656511|\n",
      "| LAX| 648800|\n",
      "+----+-------+\n",
      "only showing top 5 rows\n",
      "\n",
      "\n",
      "📌 Columna: CRS_DEP_TIME  |  Tipo: int\n",
      "--------------------------------------------------\n",
      "+-------+------------------+\n",
      "|summary|      CRS_DEP_TIME|\n",
      "+-------+------------------+\n",
      "|  count|          18505725|\n",
      "|   mean|1330.1731464722404|\n",
      "| stddev|490.52523909710624|\n",
      "|    min|                 1|\n",
      "|    25%|               915|\n",
      "|    50%|              1324|\n",
      "|    75%|              1735|\n",
      "|    max|              2359|\n",
      "+-------+------------------+\n",
      "\n",
      "\n",
      "📌 Columna: DEP_TIME  |  Tipo: double\n",
      "--------------------------------------------------\n",
      "+-------+-----------------+\n",
      "|summary|         DEP_TIME|\n",
      "+-------+-----------------+\n",
      "|  count|         18249644|\n",
      "|   mean|1333.743058385139|\n",
      "| stddev|503.8671257420364|\n",
      "|    min|              1.0|\n",
      "|    25%|            916.0|\n",
      "|    50%|           1327.0|\n",
      "|    75%|           1743.0|\n",
      "|    max|           2400.0|\n",
      "+-------+-----------------+\n",
      "\n",
      "\n",
      "📌 Columna: DEP_DELAY  |  Tipo: double\n",
      "--------------------------------------------------\n",
      "+-------+-----------------+\n",
      "|summary|        DEP_DELAY|\n",
      "+-------+-----------------+\n",
      "|  count|         18244692|\n",
      "|   mean|9.580880017048246|\n",
      "| stddev|43.04881783465637|\n",
      "|    min|           -234.0|\n",
      "|    25%|             -5.0|\n",
      "|    50%|             -2.0|\n",
      "|    75%|              6.0|\n",
      "|    max|           2755.0|\n",
      "+-------+-----------------+\n",
      "\n",
      "\n",
      "📌 Columna: TAXI_OUT  |  Tipo: double\n",
      "--------------------------------------------------\n",
      "+-------+-----------------+\n",
      "|summary|         TAXI_OUT|\n",
      "+-------+-----------------+\n",
      "|  count|         18242332|\n",
      "|   mean|16.84608404232529|\n",
      "| stddev|9.441980050787485|\n",
      "|    min|              0.0|\n",
      "|    25%|             11.0|\n",
      "|    50%|             14.0|\n",
      "|    75%|             20.0|\n",
      "|    max|            196.0|\n",
      "+-------+-----------------+\n",
      "\n",
      "\n",
      "📌 Columna: WHEELS_OFF  |  Tipo: double\n",
      "--------------------------------------------------\n",
      "+-------+------------------+\n",
      "|summary|        WHEELS_OFF|\n",
      "+-------+------------------+\n",
      "|  count|          18242337|\n",
      "|   mean|1356.3663577753223|\n",
      "| stddev| 505.5427264954096|\n",
      "|    min|               1.0|\n",
      "|    25%|             931.0|\n",
      "|    50%|            1340.0|\n",
      "|    75%|            1758.0|\n",
      "|    max|            2400.0|\n",
      "+-------+------------------+\n",
      "\n",
      "\n",
      "📌 Columna: WHEELS_ON  |  Tipo: double\n",
      "--------------------------------------------------\n",
      "+-------+------------------+\n",
      "|summary|         WHEELS_ON|\n",
      "+-------+------------------+\n",
      "|  count|          18233961|\n",
      "|   mean|1464.4559408677028|\n",
      "| stddev| 532.6591688699242|\n",
      "|    min|               1.0|\n",
      "|    25%|            1046.0|\n",
      "|    50%|            1505.0|\n",
      "|    75%|            1912.0|\n",
      "|    max|            2400.0|\n",
      "+-------+------------------+\n",
      "\n",
      "\n",
      "📌 Columna: TAXI_IN  |  Tipo: double\n",
      "--------------------------------------------------\n",
      "+-------+-----------------+\n",
      "|summary|          TAXI_IN|\n",
      "+-------+-----------------+\n",
      "|  count|         18233961|\n",
      "|   mean|7.527830952364108|\n",
      "| stddev|5.909656256247786|\n",
      "|    min|              0.0|\n",
      "|    25%|              4.0|\n",
      "|    50%|              6.0|\n",
      "|    75%|              9.0|\n",
      "|    max|            414.0|\n",
      "+-------+-----------------+\n",
      "\n",
      "\n",
      "📌 Columna: CRS_ARR_TIME  |  Tipo: int\n",
      "--------------------------------------------------\n",
      "+-------+------------------+\n",
      "|summary|      CRS_ARR_TIME|\n",
      "+-------+------------------+\n",
      "|  count|          18505725|\n",
      "|   mean|1488.6100139281223|\n",
      "| stddev| 517.9177700612939|\n",
      "|    min|                 1|\n",
      "|    25%|              1102|\n",
      "|    50%|              1519|\n",
      "|    75%|              1920|\n",
      "|    max|              2400|\n",
      "+-------+------------------+\n",
      "\n",
      "\n",
      "📌 Columna: ARR_TIME  |  Tipo: double\n",
      "--------------------------------------------------\n",
      "+-------+-----------------+\n",
      "|summary|         ARR_TIME|\n",
      "+-------+-----------------+\n",
      "|  count|         18233962|\n",
      "|   mean|1468.883535953404|\n",
      "| stddev|537.0026090785666|\n",
      "|    min|              1.0|\n",
      "|    25%|           1050.0|\n",
      "|    50%|           1509.0|\n",
      "|    75%|           1917.0|\n",
      "|    max|           2400.0|\n",
      "+-------+-----------------+\n",
      "\n",
      "\n",
      "📌 Columna: ARR_DELAY  |  Tipo: double\n",
      "--------------------------------------------------\n",
      "+-------+-----------------+\n",
      "|summary|        ARR_DELAY|\n",
      "+-------+-----------------+\n",
      "|  count|         18193961|\n",
      "|   mean|4.361593662864288|\n",
      "| stddev|45.11875035221162|\n",
      "|    min|           -238.0|\n",
      "|    25%|            -14.0|\n",
      "|    50%|             -6.0|\n",
      "|    75%|              7.0|\n",
      "|    max|           2692.0|\n",
      "+-------+-----------------+\n",
      "\n",
      "\n",
      "📌 Columna: CANCELLED  |  Tipo: double\n",
      "--------------------------------------------------\n",
      "+-------+--------------------+\n",
      "|summary|           CANCELLED|\n",
      "+-------+--------------------+\n",
      "|  count|            18505725|\n",
      "|   mean|0.014327350049781891|\n",
      "| stddev| 0.11883634904124389|\n",
      "|    min|                 0.0|\n",
      "|    25%|                 0.0|\n",
      "|    50%|                 0.0|\n",
      "|    75%|                 0.0|\n",
      "|    max|                 1.0|\n",
      "+-------+--------------------+\n",
      "\n",
      "\n",
      "📌 Columna: DIVERTED  |  Tipo: double\n",
      "--------------------------------------------------\n",
      "+-------+--------------------+\n",
      "|summary|            DIVERTED|\n",
      "+-------+--------------------+\n",
      "|  count|            18505725|\n",
      "|   mean|0.002379858124985...|\n",
      "| stddev|0.048725707060911054|\n",
      "|    min|                 0.0|\n",
      "|    25%|                 0.0|\n",
      "|    50%|                 0.0|\n",
      "|    75%|                 0.0|\n",
      "|    max|                 1.0|\n",
      "+-------+--------------------+\n",
      "\n",
      "\n",
      "📌 Columna: CRS_ELAPSED_TIME  |  Tipo: double\n",
      "--------------------------------------------------\n",
      "+-------+------------------+\n",
      "|summary|  CRS_ELAPSED_TIME|\n",
      "+-------+------------------+\n",
      "|  count|          18505702|\n",
      "|   mean|144.22530115312566|\n",
      "| stddev| 75.50062013999333|\n",
      "|    min|             -99.0|\n",
      "|    25%|              89.0|\n",
      "|    50%|             125.0|\n",
      "|    75%|             175.0|\n",
      "|    max|             718.0|\n",
      "+-------+------------------+\n",
      "\n",
      "\n",
      "📌 Columna: ACTUAL_ELAPSED_TIME  |  Tipo: double\n",
      "--------------------------------------------------\n",
      "+-------+-------------------+\n",
      "|summary|ACTUAL_ELAPSED_TIME|\n",
      "+-------+-------------------+\n",
      "|  count|           18196559|\n",
      "|   mean| 139.22770200673654|\n",
      "| stddev|  75.03799146412655|\n",
      "|    min|               14.0|\n",
      "|    25%|               84.0|\n",
      "|    50%|              120.0|\n",
      "|    75%|              171.0|\n",
      "|    max|              784.0|\n",
      "+-------+-------------------+\n",
      "\n",
      "\n",
      "📌 Columna: AIR_TIME  |  Tipo: double\n",
      "--------------------------------------------------\n",
      "+-------+------------------+\n",
      "|summary|          AIR_TIME|\n",
      "+-------+------------------+\n",
      "|  count|          18196559|\n",
      "|   mean|114.86600911743808|\n",
      "| stddev| 72.88150170691291|\n",
      "|    min|               4.0|\n",
      "|    25%|              61.0|\n",
      "|    50%|              96.0|\n",
      "|    75%|             145.0|\n",
      "|    max|             723.0|\n",
      "+-------+------------------+\n",
      "\n",
      "\n",
      "📌 Columna: DISTANCE  |  Tipo: double\n",
      "--------------------------------------------------\n",
      "+-------+-----------------+\n",
      "|summary|         DISTANCE|\n",
      "+-------+-----------------+\n",
      "|  count|         18505725|\n",
      "|   mean|832.5811463749732|\n",
      "| stddev|613.3905504323654|\n",
      "|    min|             25.0|\n",
      "|    25%|            374.0|\n",
      "|    50%|            666.0|\n",
      "|    75%|           1069.0|\n",
      "|    max|           4983.0|\n",
      "+-------+-----------------+\n",
      "\n"
     ]
    }
   ],
   "source": [
    "from pyspark.sql.functions import col, countDistinct\n",
    "from pyspark.sql.types import NumericType, StringType, DateType, TimestampType\n",
    "\n",
    "def resumen_descriptivo(df):\n",
    "    print(\"📊 Estadísticas Descriptivas Generales:\\n\")\n",
    "\n",
    "    for field in df.schema.fields:\n",
    "        nombre = field.name\n",
    "        tipo = field.dataType\n",
    "\n",
    "        print(f\"\\n📌 Columna: {nombre}  |  Tipo: {tipo.simpleString()}\")\n",
    "        print(\"-\" * 50)\n",
    "\n",
    "        # Si es numérico\n",
    "        if isinstance(tipo, NumericType):\n",
    "            df.select(nombre).summary(\"count\", \"mean\", \"stddev\", \"min\", \"25%\", \"50%\", \"75%\", \"max\").show()\n",
    "\n",
    "        # Si es categórica o de fecha\n",
    "        elif isinstance(tipo, (StringType, DateType, TimestampType)):\n",
    "            total = df.count()\n",
    "            distintos = df.select(nombre).distinct().count()\n",
    "            print(f\"Valores únicos: {distintos} / {total}\")\n",
    "            print(\"Top 5 valores más frecuentes:\")\n",
    "            df.groupBy(nombre).count().orderBy(\"count\", ascending=False).show(5)\n",
    "\n",
    "        else:\n",
    "            print(\"Tipo de dato no analizado automáticamente.\")\n",
    "\n",
    "resumen_descriptivo(df)"
   ]
  },
  {
   "cell_type": "markdown",
   "metadata": {
    "id": "QV0wngonKvgl"
   },
   "source": [
    "### Seleccionando variables de caracterización"
   ]
  },
  {
   "cell_type": "markdown",
   "metadata": {
    "id": "h_K-48Chh_3b"
   },
   "source": [
    "**Variables relacionadas con el tiempo:**\n",
    "\n",
    "* `FL_DATE`: La fecha del vuelo puede ser importante para identificar patrones estacionales o días de la semana con mayor probabilidad de retraso.\n",
    "\n",
    "* `CRS_DEP_TIME`: La hora programada de salida puede influir en los retrasos (por ejemplo, vuelos en horas pico).\n",
    "\n",
    "* `DEP_TIME`: La hora real de salida. La diferencia entre  `DEP_TIME` y `CRS_DEP_TIME` (`DEP_DELAY`) es una variable predictora muy fuerte para `ARR_DELAY`.\n",
    "\n",
    "* `TAXI_OUT`: El tiempo que tarda el avión en rodar desde la puerta de embarque hasta la pista de despegue. Tiempos de taxi largos pueden indicar congestión o problemas.\n",
    "\n",
    "* `WHEELS_OFF`: La hora en que las ruedas del avión dejan el suelo. Relacionado con `TAXI_OUT` y `DEP_TIME`.\n",
    "\n",
    "* `WHEELS_ON`: La hora en que las ruedas del avión tocan tierra. Relacionado con `AIR_TIME` y `TAXI_IN`.\n",
    "\n",
    "* `TAXI_IN`: El tiempo que tarda el avión en rodar desde la pista de aterrizaje hasta la puerta de embarque.\n",
    "\n",
    "\n",
    "\n",
    "**Variables operacionales y de ruta:**\n",
    "\n",
    "* `OP_CARRIER`: La aerolínea operadora. Algunas aerolíneas pueden tener una mayor propensión a sufrir retrasos.\n",
    "\n",
    "* `ORIGIN`: El aeropuerto de origen. Ciertos aeropuertos pueden experimentar más retrasos debido a su tamaño, ubicación geográfica o congestión.\n",
    "\n",
    "* `DEST`: El aeropuerto de destino. Similar al aeropuerto de origen.\n",
    "\n",
    "* `DISTANCE`: La distancia del vuelo. Los vuelos de larga distancia podrían ser más susceptibles a retrasos acumulados.\n",
    "\n",
    "* `OP_CARRIER_FL_NUM`: El número de vuelo. Podría usarse para identificar rutas específicas o vuelos recurrentes con historiales de retraso.\n",
    "\n",
    "\n",
    "\n",
    "**Variables de duración del vuelo:**\n",
    "\n",
    "* `CRS_ELAPSED_TIME`: El tiempo de vuelo programado.\n",
    "\n",
    "* `ACTUAL_ELAPSED_TIME`: El tiempo de vuelo real. La diferencia con `CRS_ELAPSED_TIME` está directamente relacionada con `ARR_DELAY`.\n",
    "\n",
    "* `AIR_TIME`: El tiempo que el avión pasa en el aire."
   ]
  },
  {
   "cell_type": "markdown",
   "metadata": {
    "id": "x8CZWyfAkes5"
   },
   "source": [
    "Si nosotros queremos predecir el delay del avión, habrá variables que desconozcamos ya que la estimación se deberá de realizar antes y/o después del despegue del avión.\n",
    "\n",
    "Tomando esto en cuenta no podemos utilizar las siguientes variables:\n",
    "\n",
    "* `AIR_TIME`\n",
    "* `ACTUAL_ELAPSED_TIME`"
   ]
  },
  {
   "cell_type": "markdown",
   "metadata": {},
   "source": [
    "### Filtrando datos por aereolinea"
   ]
  },
  {
   "cell_type": "markdown",
   "metadata": {},
   "source": [
    "* Dada la gran cantidad de datos, se decidió acotar el modelo a evaluar únicamnete los datos de la aereolínea `AA`\n",
    "* Se están tomando únicamente los datos de los vuelos que no fueron cancelados, ya que no se conoce el motivo de la cancelación\n",
    "* No se están tomando los datos de los vuelos que fueron desviados ya que este dato no se conoce hasta que el vuelo está en curso\n",
    "  \n",
    "Estas consideraciones se tomaron en cuenta ya que el objetivo del modelo será predecir si habrá algún retraso antes de que el vuelo despegue."
   ]
  },
  {
   "cell_type": "code",
   "execution_count": 6,
   "metadata": {},
   "outputs": [
    {
     "name": "stdout",
     "output_type": "stream",
     "text": [
      "DataFrame filtrado por OP_CARRIER == 'AA' :\n",
      "+----------+----------+-----------------+------+----+------------+--------+---------+--------+----------+---------+-------+------------+--------+---------+---------+--------+----------------+-------------------+--------+--------+\n",
      "|   FL_DATE|OP_CARRIER|OP_CARRIER_FL_NUM|ORIGIN|DEST|CRS_DEP_TIME|DEP_TIME|DEP_DELAY|TAXI_OUT|WHEELS_OFF|WHEELS_ON|TAXI_IN|CRS_ARR_TIME|ARR_TIME|ARR_DELAY|CANCELLED|DIVERTED|CRS_ELAPSED_TIME|ACTUAL_ELAPSED_TIME|AIR_TIME|DISTANCE|\n",
      "+----------+----------+-----------------+------+----+------------+--------+---------+--------+----------+---------+-------+------------+--------+---------+---------+--------+----------------+-------------------+--------+--------+\n",
      "|2016-01-01|        AA|               43|   DTW| DFW|        1513|  1539.0|     26.0|    42.0|    1621.0|   1750.0|    6.0|        1724|  1756.0|     32.0|      0.0|     0.0|           191.0|              197.0|   149.0|   986.0|\n",
      "|2016-01-01|        AA|               44|   SEA| JFK|         745|   741.0|     -4.0|    28.0|     809.0|   1603.0|    7.0|        1602|  1610.0|      8.0|      0.0|     0.0|           317.0|              329.0|   294.0|  2422.0|\n",
      "|2016-01-01|        AA|               45|   JFK| SEA|        1825|  1819.0|     -6.0|    32.0|    1851.0|   2115.0|   10.0|        2150|  2125.0|    -25.0|      0.0|     0.0|           385.0|              366.0|   324.0|  2422.0|\n",
      "+----------+----------+-----------------+------+----+------------+--------+---------+--------+----------+---------+-------+------------+--------+---------+---------+--------+----------------+-------------------+--------+--------+\n",
      "only showing top 3 rows\n",
      "\n",
      "Total de dataframe filtrado:  2683157\n",
      "Total de dataframe sin filtrar:  18505725\n",
      "Porcentaje de registros elimnados:  85.50093552130488 %\n"
     ]
    }
   ],
   "source": [
    "# Filtrar por aereolina y por vuelos que no fueron cancelados\n",
    "from pyspark.sql.functions import col\n",
    "\n",
    "# Usando col() para el mismo filtro\n",
    "df_AA = df.filter(\n",
    "    (col(\"OP_CARRIER\") == \"AA\") &\n",
    "    (col(\"CANCELLED\") == 0) &\n",
    "    (col(\"DIVERTED\") == 0)\n",
    ")\n",
    "df_AA_count = df_AA.count()\n",
    "\n",
    "print(\"DataFrame filtrado por OP_CARRIER == 'AA' :\")\n",
    "df_AA.show(3)\n",
    "print(\"Total de dataframe filtrado: \", df_AA_count )\n",
    "print(\"Total de dataframe sin filtrar: \", df_count)\n",
    "print(\"Porcentaje de registros elimnados: \", (df_count-df_AA_count)/df_count * 100, \"%\")"
   ]
  },
  {
   "cell_type": "markdown",
   "metadata": {},
   "source": [
    "### Creando columna categórica de delay"
   ]
  },
  {
   "cell_type": "code",
   "execution_count": 7,
   "metadata": {},
   "outputs": [
    {
     "name": "stdout",
     "output_type": "stream",
     "text": [
      "\n",
      "DataFrame con columna 'DELAY' añadida:\n",
      "+----------+----------+-----------------+------+----+------------+--------+---------+--------+----------+---------+-------+------------+--------+---------+---------+--------+----------------+-------------------+--------+--------+-----+\n",
      "|   FL_DATE|OP_CARRIER|OP_CARRIER_FL_NUM|ORIGIN|DEST|CRS_DEP_TIME|DEP_TIME|DEP_DELAY|TAXI_OUT|WHEELS_OFF|WHEELS_ON|TAXI_IN|CRS_ARR_TIME|ARR_TIME|ARR_DELAY|CANCELLED|DIVERTED|CRS_ELAPSED_TIME|ACTUAL_ELAPSED_TIME|AIR_TIME|DISTANCE|DELAY|\n",
      "+----------+----------+-----------------+------+----+------------+--------+---------+--------+----------+---------+-------+------------+--------+---------+---------+--------+----------------+-------------------+--------+--------+-----+\n",
      "|2016-01-01|        AA|               43|   DTW| DFW|        1513|  1539.0|     26.0|    42.0|    1621.0|   1750.0|    6.0|        1724|  1756.0|     32.0|      0.0|     0.0|           191.0|              197.0|   149.0|   986.0|    1|\n",
      "|2016-01-01|        AA|               44|   SEA| JFK|         745|   741.0|     -4.0|    28.0|     809.0|   1603.0|    7.0|        1602|  1610.0|      8.0|      0.0|     0.0|           317.0|              329.0|   294.0|  2422.0|    1|\n",
      "|2016-01-01|        AA|               45|   JFK| SEA|        1825|  1819.0|     -6.0|    32.0|    1851.0|   2115.0|   10.0|        2150|  2125.0|    -25.0|      0.0|     0.0|           385.0|              366.0|   324.0|  2422.0|    0|\n",
      "+----------+----------+-----------------+------+----+------------+--------+---------+--------+----------+---------+-------+------------+--------+---------+---------+--------+----------------+-------------------+--------+--------+-----+\n",
      "only showing top 3 rows\n",
      "\n"
     ]
    }
   ],
   "source": [
    "from pyspark.sql.functions import when, lit\n",
    "\n",
    "# Añadir una columna categórica 'DELAY' basado en la cantidad de delay que tuvo el avión 'ARR_DELAY'\n",
    "df_DELAY = df_AA.withColumn(\n",
    "    \"DELAY\",\n",
    "    when(col(\"ARR_DELAY\") >= 0, lit(1)).otherwise(lit(0))\n",
    ")\n",
    "print(\"\\nDataFrame con columna 'DELAY' añadida:\")\n",
    "df_DELAY.show(3)"
   ]
  },
  {
   "cell_type": "markdown",
   "metadata": {},
   "source": [
    "### Realizando tabla de probabilidad / particiones"
   ]
  },
  {
   "cell_type": "code",
   "execution_count": 8,
   "metadata": {
    "id": "lsrLmz8vKvgm",
    "outputId": "3f0f8734-54a8-4d61-ce93-2e573948ca39"
   },
   "outputs": [
    {
     "name": "stdout",
     "output_type": "stream",
     "text": [
      "Valores únicos por columnas de particionamiento:\n",
      "ORIGIN 114\n",
      "DELAY 2\n",
      "\n",
      "+------+-----+------+--------------------+--------------+\n",
      "|ORIGIN|DELAY|count |probabilidad        |tamaño_muestra|\n",
      "+------+-----+------+--------------------+--------------+\n",
      "|DFW   |0    |229573|0.08556077784490435 |2296          |\n",
      "|DFW   |1    |187839|0.07000671224233244 |1878          |\n",
      "|CLT   |0    |169139|0.06303731015367345 |1691          |\n",
      "|CLT   |1    |116813|0.04353565594558947 |1168          |\n",
      "|PHX   |0    |103802|0.038686517412138015|1038          |\n",
      "|ORD   |0    |101881|0.03797056974303032 |1019          |\n",
      "|MIA   |0    |86004 |0.03205328648304963 |860           |\n",
      "|ORD   |1    |84605 |0.03153188575994621 |846           |\n",
      "|PHL   |0    |81424 |0.030346342014276467|814           |\n",
      "|LAX   |0    |74017 |0.02758578793562956 |740           |\n",
      "+------+-----+------+--------------------+--------------+\n",
      "only showing top 10 rows\n",
      "\n",
      "Total de combinaciones:  227\n",
      "Tamaño total esperado de la muestra final: 31882\n"
     ]
    }
   ],
   "source": [
    "from pyspark.sql.functions import col, count, round, when, lit\n",
    "\n",
    "\n",
    "# Variables seleccionadas\n",
    "vars_particion = [\"ORIGIN\", \"DELAY\"]\n",
    "\n",
    "def generate_comb_table(df, vars_particion, sample_size = 0.01, minimo_por_particion=0, show_output=True, print_size=10):\n",
    "    \n",
    "    # Imprimir la cantidad de valores únicos por columna\n",
    "    print(\"Valores únicos por columnas de particionamiento:\")\n",
    "    for columna in vars_particion:\n",
    "        print(columna, df.select(col(columna)).distinct().count())\n",
    "    print()\n",
    "\n",
    "    # Calcular frecuencia de combinaciones\n",
    "    combinaciones = df.groupBy(vars_particion).count()\n",
    "\n",
    "    # Total de registros\n",
    "    total = df.count()\n",
    "\n",
    "    # Agregar probabilidad\n",
    "    combinaciones = combinaciones.withColumn(\"probabilidad\", col(\"count\") / total)\n",
    "    \n",
    "    # Definir tamaño total de la muestra (1% del total por default)\n",
    "    tamaño_muestra_total = int(total * sample_size)\n",
    "    \n",
    "    # Calcular el tamaño de muestra por partición según su probabilidad\n",
    "    combinaciones_con_tamaño = combinaciones.withColumn(\n",
    "        \"tamaño_muestra\",\n",
    "        round(\n",
    "            when(\n",
    "                (col(\"probabilidad\") * tamaño_muestra_total) < minimo_por_particion,\n",
    "                lit(minimo_por_particion)\n",
    "            ).otherwise(col(\"probabilidad\") * tamaño_muestra_total)\n",
    "        ).cast(\"int\")\n",
    "    )\n",
    "    \n",
    "    # Ordenar para visualizar mejor\n",
    "    combinaciones_con_tamaño = combinaciones_con_tamaño.orderBy(\n",
    "        col(\"probabilidad\").desc(),\n",
    "        col(\"ORIGIN\").asc(),\n",
    "    )\n",
    "    \n",
    "    # Calcular el tamaño final total de la muestra\n",
    "    tamaño_muestra_final = combinaciones_con_tamaño.agg({\"tamaño_muestra\": \"sum\"}).collect()[0][0]\n",
    "\n",
    "     # Mostrar resultados\n",
    "    if show_output:\n",
    "        combinaciones_con_tamaño.show(print_size, truncate=False)\n",
    "        print(\"Total de combinaciones: \", combinaciones_con_tamaño.count())\n",
    "        print(f\"Tamaño total esperado de la muestra final: {tamaño_muestra_final}\")\n",
    "\n",
    "    return combinaciones_con_tamaño\n",
    "\n",
    "# Ejecutar\n",
    "combinaciones = generate_comb_table(df_DELAY, vars_particion, sample_size = 0.01, minimo_por_particion=50)"
   ]
  },
  {
   "cell_type": "markdown",
   "metadata": {},
   "source": [
    "### Generando muestra a partir de tabla de particiones"
   ]
  },
  {
   "cell_type": "code",
   "execution_count": 9,
   "metadata": {
    "id": "PFBTMvvvKvgm",
    "outputId": "d77c93a6-b401-46a0-d03e-179e32cd17b7"
   },
   "outputs": [
    {
     "name": "stdout",
     "output_type": "stream",
     "text": [
      "+------+-----+----------+----------+-----------------+----+------------+--------+---------+--------+----------+---------+-------+------------+--------+---------+---------+--------+----------------+-------------------+--------+--------+--------------+-------+\n",
      "|ORIGIN|DELAY|FL_DATE   |OP_CARRIER|OP_CARRIER_FL_NUM|DEST|CRS_DEP_TIME|DEP_TIME|DEP_DELAY|TAXI_OUT|WHEELS_OFF|WHEELS_ON|TAXI_IN|CRS_ARR_TIME|ARR_TIME|ARR_DELAY|CANCELLED|DIVERTED|CRS_ELAPSED_TIME|ACTUAL_ELAPSED_TIME|AIR_TIME|DISTANCE|tamaño_muestra|row_num|\n",
      "+------+-----+----------+----------+-----------------+----+------------+--------+---------+--------+----------+---------+-------+------------+--------+---------+---------+--------+----------------+-------------------+--------+--------+--------------+-------+\n",
      "|CLE   |0    |2016-01-01|AA        |1700             |CLT |1205        |1202.0  |-3.0     |10.0    |1212.0    |1321.0   |9.0    |1344        |1330.0  |-14.0    |0.0      |0.0     |99.0            |88.0               |69.0    |430.0   |53            |1      |\n",
      "|CLE   |0    |2016-01-01|AA        |2208             |DFW |1849        |1847.0  |-2.0     |25.0    |1912.0    |2047.0   |6.0    |2104        |2053.0  |-11.0    |0.0      |0.0     |195.0           |186.0              |155.0   |1021.0  |53            |2      |\n",
      "|CLE   |0    |2016-01-02|AA        |2364             |DFW |543         |541.0   |-2.0     |17.0    |558.0     |720.0    |5.0    |755         |725.0   |-30.0    |0.0      |0.0     |192.0           |164.0              |142.0   |1021.0  |53            |3      |\n",
      "+------+-----+----------+----------+-----------------+----+------------+--------+---------+--------+----------+---------+-------+------------+--------+---------+---------+--------+----------------+-------------------+--------+--------+--------------+-------+\n",
      "only showing top 3 rows\n",
      "\n",
      "Tamaño total de la muestra: 31558\n"
     ]
    }
   ],
   "source": [
    "from pyspark.sql.window import Window\n",
    "from pyspark.sql.functions import row_number\n",
    "\n",
    "def extract_sample(df, combinaciones, show_output=True, print_size=3):\n",
    "    \n",
    "    # Unir el tamaño de muestra a cada combinación en el dataset original\n",
    "    df_con_muestra = df.join(\n",
    "        combinaciones.select(*vars_particion, \"tamaño_muestra\"),\n",
    "        on=vars_particion,\n",
    "        how=\"inner\"\n",
    "    )\n",
    "    \n",
    "    # Crear ventana ordenada por fecha y hora dentro de cada combinación\n",
    "    ventana = Window.partitionBy(*vars_particion).orderBy(\"FL_DATE\", \"CRS_DEP_TIME\")\n",
    "    \n",
    "    # Enumerar vuelos por combinación (ordenados por tiempo)\n",
    "    df_con_muestra = df_con_muestra.withColumn(\"row_num\", row_number().over(ventana))\n",
    "    \n",
    "    # Filtrar solo los primeros N registros por combinación\n",
    "    muestra_final = df_con_muestra.filter(col(\"row_num\") <= col(\"tamaño_muestra\"))\n",
    "    \n",
    "    # Mostrar la muestra final\n",
    "    if show_output == True:\n",
    "        muestra_final.show(print_size, truncate=False)\n",
    "    \n",
    "    print(f\"Tamaño total de la muestra: {muestra_final.count()}\")\n",
    "\n",
    "    return muestra_final\n",
    "\n",
    "df_muestra = extract_sample(df_DELAY, combinaciones)"
   ]
  },
  {
   "cell_type": "code",
   "execution_count": 10,
   "metadata": {},
   "outputs": [
    {
     "name": "stdout",
     "output_type": "stream",
     "text": [
      "--- Contando cuantas muestras tienen DELAY ---\n",
      "+-----+-----+\n",
      "|DELAY|count|\n",
      "+-----+-----+\n",
      "|    0|18384|\n",
      "|    1|13174|\n",
      "+-----+-----+\n",
      "\n"
     ]
    }
   ],
   "source": [
    "print(\"--- Contando cuantas muestras tienen DELAY ---\")\n",
    "counts_by_boolean = df_muestra.groupBy([\"DELAY\"]).count()\n",
    "counts_by_boolean.show()"
   ]
  },
  {
   "cell_type": "markdown",
   "metadata": {
    "id": "ht0Zp4ujLId8"
   },
   "source": [
    "# **2. Construcción Train – Test**\n",
    "\n"
   ]
  },
  {
   "cell_type": "markdown",
   "metadata": {
    "id": "YpXJHk_JX7fd"
   },
   "source": [
    "### Selección de columnas importantes para el modelo"
   ]
  },
  {
   "cell_type": "code",
   "execution_count": 11,
   "metadata": {},
   "outputs": [
    {
     "data": {
      "text/plain": [
       "['ORIGIN',\n",
       " 'DELAY',\n",
       " 'FL_DATE',\n",
       " 'OP_CARRIER',\n",
       " 'OP_CARRIER_FL_NUM',\n",
       " 'DEST',\n",
       " 'CRS_DEP_TIME',\n",
       " 'DEP_TIME',\n",
       " 'DEP_DELAY',\n",
       " 'TAXI_OUT',\n",
       " 'WHEELS_OFF',\n",
       " 'WHEELS_ON',\n",
       " 'TAXI_IN',\n",
       " 'CRS_ARR_TIME',\n",
       " 'ARR_TIME',\n",
       " 'ARR_DELAY',\n",
       " 'CANCELLED',\n",
       " 'DIVERTED',\n",
       " 'CRS_ELAPSED_TIME',\n",
       " 'ACTUAL_ELAPSED_TIME',\n",
       " 'AIR_TIME',\n",
       " 'DISTANCE',\n",
       " 'tamaño_muestra',\n",
       " 'row_num']"
      ]
     },
     "execution_count": 11,
     "metadata": {},
     "output_type": "execute_result"
    }
   ],
   "source": [
    "df_muestra.columns"
   ]
  },
  {
   "cell_type": "code",
   "execution_count": 12,
   "metadata": {},
   "outputs": [
    {
     "name": "stdout",
     "output_type": "stream",
     "text": [
      "+----------+------+----+------------+------------+----------------+--------+---------+--------+-----+\n",
      "|   FL_DATE|ORIGIN|DEST|CRS_DEP_TIME|CRS_ARR_TIME|CRS_ELAPSED_TIME|DEP_TIME|DEP_DELAY|DISTANCE|DELAY|\n",
      "+----------+------+----+------------+------------+----------------+--------+---------+--------+-----+\n",
      "|2016-01-01|   CLE| CLT|        1205|        1344|            99.0|  1202.0|     -3.0|   430.0|    0|\n",
      "|2016-01-01|   CLE| DFW|        1849|        2104|           195.0|  1847.0|     -2.0|  1021.0|    0|\n",
      "|2016-01-02|   CLE| DFW|         543|         755|           192.0|   541.0|     -2.0|  1021.0|    0|\n",
      "|2016-01-03|   CLE| DFW|         543|         755|           192.0|   541.0|     -2.0|  1021.0|    0|\n",
      "|2016-01-03|   CLE| PHX|         730|        1014|           284.0|   731.0|      1.0|  1737.0|    0|\n",
      "|2016-01-03|   CLE| CLT|         830|        1020|           110.0|   823.0|     -7.0|   430.0|    0|\n",
      "|2016-01-03|   CLE| DFW|         910|        1117|           187.0|   903.0|     -7.0|  1021.0|    0|\n",
      "|2016-01-04|   CLE| DFW|         543|         755|           192.0|   542.0|     -1.0|  1021.0|    0|\n",
      "|2016-01-04|   CLE| PHX|         730|        1014|           284.0|   724.0|     -6.0|  1737.0|    0|\n",
      "|2016-01-04|   CLE| DFW|        1123|        1330|           187.0|  1123.0|      0.0|  1021.0|    0|\n",
      "|2016-01-04|   CLE| DFW|        1849|        2104|           195.0|  1847.0|     -2.0|  1021.0|    0|\n",
      "|2016-01-05|   CLE| DFW|         542|         800|           198.0|   538.0|     -4.0|  1021.0|    0|\n",
      "|2016-01-05|   CLE| DFW|        1118|        1332|           194.0|  1117.0|     -1.0|  1021.0|    0|\n",
      "|2016-01-05|   CLE| CLT|        1525|        1706|           101.0|  1520.0|     -5.0|   430.0|    0|\n",
      "|2016-01-05|   CLE| DFW|        1855|        2100|           185.0|  1852.0|     -3.0|  1021.0|    0|\n",
      "|2016-01-06|   CLE| DFW|         542|         800|           198.0|   608.0|     26.0|  1021.0|    0|\n",
      "|2016-01-06|   CLE| CLT|         714|         909|           115.0|   708.0|     -6.0|   430.0|    0|\n",
      "|2016-01-06|   CLE| DFW|        1118|        1332|           194.0|  1116.0|     -2.0|  1021.0|    0|\n",
      "|2016-01-06|   CLE| CLT|        1200|        1343|           103.0|  1154.0|     -6.0|   430.0|    0|\n",
      "|2016-01-06|   CLE| CLT|        1525|        1706|           101.0|  1518.0|     -7.0|   430.0|    0|\n",
      "+----------+------+----+------------+------------+----------------+--------+---------+--------+-----+\n",
      "only showing top 20 rows\n",
      "\n"
     ]
    }
   ],
   "source": [
    "# Variables importantes para el modelo\n",
    "selected_cols = [\n",
    "    \"FL_DATE\", \"ORIGIN\", \"DEST\", \n",
    "    \"CRS_DEP_TIME\", \"CRS_ARR_TIME\", \"CRS_ELAPSED_TIME\",\n",
    "    \"DEP_TIME\", \"DEP_DELAY\", \"DISTANCE\", \n",
    "    \"DELAY\"#, \"ARR_DELAY\", \n",
    "]\n",
    "\n",
    "# Realizando la selección de columnas importantes como datos de entrenamiento\n",
    "df_raw = df_muestra.select(*selected_cols)\n",
    "df_raw.show()"
   ]
  },
  {
   "cell_type": "markdown",
   "metadata": {},
   "source": [
    "### Transformación de variables"
   ]
  },
  {
   "cell_type": "code",
   "execution_count": 13,
   "metadata": {},
   "outputs": [
    {
     "name": "stdout",
     "output_type": "stream",
     "text": [
      "+------------+------------+----------------+--------+---------+--------+-----+--------------+--------+--------+------+\n",
      "|CRS_DEP_TIME|CRS_ARR_TIME|CRS_ELAPSED_TIME|DEP_TIME|DEP_DELAY|DISTANCE|DELAY|FL_DAY_OF_WEEK|FL_MONTH|ORIGIN_T|DEST_T|\n",
      "+------------+------------+----------------+--------+---------+--------+-----+--------------+--------+--------+------+\n",
      "|        1205|        1344|            99.0|  1202.0|     -3.0|   430.0|    0|             6|       1|    48.0|   1.0|\n",
      "|        1849|        2104|           195.0|  1847.0|     -2.0|  1021.0|    0|             6|       1|    48.0|   0.0|\n",
      "|         543|         755|           192.0|   541.0|     -2.0|  1021.0|    0|             7|       1|    48.0|   0.0|\n",
      "|         543|         755|           192.0|   541.0|     -2.0|  1021.0|    0|             1|       1|    48.0|   0.0|\n",
      "|         730|        1014|           284.0|   731.0|      1.0|  1737.0|    0|             1|       1|    48.0|   2.0|\n",
      "+------------+------------+----------------+--------+---------+--------+-----+--------------+--------+--------+------+\n",
      "only showing top 5 rows\n",
      "\n",
      "Total de registros:  31558\n"
     ]
    }
   ],
   "source": [
    "from pyspark.sql.functions import dayofweek, month\n",
    "from pyspark.ml.feature import StringIndexer\n",
    "\n",
    "# Extrayendo el día, mes y eliminando la columna original de fecha\n",
    "df_transformed = df_raw.withColumn(\"FL_DAY_OF_WEEK\", dayofweek(\"FL_DATE\")) \\\n",
    "                     .withColumn(\"FL_MONTH\", month(\"FL_DATE\")) \\\n",
    "                     .drop(\"FL_DATE\") \n",
    "\n",
    "# Codificaando las variables categóricas\n",
    "indexers = [\n",
    "    StringIndexer(inputCol=\"ORIGIN\", outputCol=\"ORIGIN_T\"),\n",
    "    StringIndexer(inputCol=\"DEST\", outputCol=\"DEST_T\")\n",
    "]\n",
    "\n",
    "for indexer in indexers:\n",
    "    df_transformed = indexer.fit(df_transformed).transform(df_transformed)\n",
    "\n",
    "# Eliminando las columnas de las variables categóricas originales\n",
    "cols_to_drop = [\"ORIGIN\", \"DEST\"]\n",
    "df_transformed = df_transformed.drop(*cols_to_drop) # Using * to unpack the list of column names\n",
    "\n",
    "df_transformed.show(5)\n",
    "df_transformed_count = df_transformed.count()\n",
    "print(\"Total de registros: \", df_transformed_count)"
   ]
  },
  {
   "cell_type": "markdown",
   "metadata": {},
   "source": [
    "### Limpieza de datos"
   ]
  },
  {
   "cell_type": "code",
   "execution_count": 14,
   "metadata": {},
   "outputs": [
    {
     "name": "stdout",
     "output_type": "stream",
     "text": [
      "Total de registros despues de la limpieza:  31364\n"
     ]
    }
   ],
   "source": [
    "#Se eliminan registros con valores nulos\n",
    "df_clean = df_transformed.dropna()\n",
    "\n",
    "#Se eliminan columnas con valores nulos\n",
    "df_clean = df_clean.na.drop()\n",
    "\n",
    "#Se eliminan registros duplicados\n",
    "df_clean = df_clean.dropDuplicates()\n",
    "\n",
    "df_clean_count = df_clean.count()\n",
    "print(\"Total de registros despues de la limpieza: \", df_clean_count)"
   ]
  },
  {
   "cell_type": "code",
   "execution_count": 15,
   "metadata": {},
   "outputs": [],
   "source": [
    "# Guardando dataframe en un archivo de parquet\n",
    "#df_clean.write.mode(\"overwrite\").parquet(\"./df_transformed.parquet\")"
   ]
  },
  {
   "cell_type": "markdown",
   "metadata": {},
   "source": [
    "### Generando paticiones de Test y Train"
   ]
  },
  {
   "cell_type": "code",
   "execution_count": 16,
   "metadata": {},
   "outputs": [],
   "source": [
    "from pyspark.ml.feature import VectorAssembler\n",
    "\n",
    "target_variable = \"DELAY\"\n",
    "\n",
    "assembler = VectorAssembler(\n",
    "    inputCols=[\n",
    "        \"FL_DAY_OF_WEEK\", \"FL_MONTH\",\n",
    "        \"ORIGIN_T\", \"DEST_T\", \n",
    "        \"CRS_DEP_TIME\", \"CRS_ARR_TIME\", \"CRS_ELAPSED_TIME\",\n",
    "        \"DEP_TIME\", \"DEP_DELAY\", \"DISTANCE\", \n",
    "    ],\n",
    "    outputCol=\"features\"\n",
    ")\n",
    "\n",
    "df_vector = assembler.transform(df_clean)"
   ]
  },
  {
   "cell_type": "code",
   "execution_count": 17,
   "metadata": {},
   "outputs": [
    {
     "name": "stdout",
     "output_type": "stream",
     "text": [
      "Total data: 31364\n",
      "Training data: 22017\n",
      "Test data: 9347\n"
     ]
    }
   ],
   "source": [
    "# Separación de datos de entrenamiento y prueba\n",
    "spark.conf.set(\"spark.sql.shuffle.partitions\", \"200\")       # Se define el valor por default del número de ejecutores\n",
    "df_train, df_test = df_vector.randomSplit([0.7, 0.3], seed=42)\n",
    "\n",
    "# Impresion del tamaño de las particiones\n",
    "print(f\"\"\"Total data: {df_vector.count()}\n",
    "Training data: {df_train.count()}\n",
    "Test data: {df_test.count()}\"\"\")"
   ]
  },
  {
   "cell_type": "code",
   "execution_count": 18,
   "metadata": {},
   "outputs": [
    {
     "name": "stdout",
     "output_type": "stream",
     "text": [
      "Cantidad de retrasos en df_train: 9232\n",
      "Cantidad de no retrasos en df_train: 12785 \n",
      "\n",
      "Cantidad de retrasos en df_test: 3904\n",
      "Cantidad de no retrasos en df_test: 5443\n"
     ]
    }
   ],
   "source": [
    "# Impresión de clases positivas y negativas en datos de entrenamiento\n",
    "df_train_num_delays = df_train.filter(df_train[\"DELAY\"]==1).count()\n",
    "df_train_num_non_delays = df_train.filter(df_train[\"DELAY\"]==0).count()\n",
    "print(\"Cantidad de retrasos en df_train:\", df_train_num_delays)\n",
    "print(\"Cantidad de no retrasos en df_train:\", df_train_num_non_delays,\"\\n\")\n",
    "\n",
    "# Impresión de clases positivas y negativas en datos de prueba\n",
    "df_test_num_delays = df_test.filter(df_test[\"DELAY\"]==1).count()\n",
    "df_test_num_non_delays = df_test.filter(df_test[\"DELAY\"]==0).count()\n",
    "print(\"Cantidad de retrasos en df_test:\", df_test_num_delays)\n",
    "print(\"Cantidad de no retrasos en df_test:\", df_test_num_non_delays)"
   ]
  },
  {
   "cell_type": "markdown",
   "metadata": {
    "id": "nnuXhLQrLNQW"
   },
   "source": [
    "# **3.  Selección de métricas para medir calidad de resultados**"
   ]
  },
  {
   "cell_type": "markdown",
   "metadata": {
    "id": "UusGMj7aX6DN"
   },
   "source": [
    "Al ser un problema de clasificación, podemos utilzar las siguientes métricas:\n",
    "\n",
    "* `AUC (ROC)` - Describe la capacidad del modelo para discriminar entre clases, haciendo una relación entre los TPR (True Positive Rate) y lo FPR (False Positive Rate).\n",
    "* `Matríz de Confusión` - Mide los VP, VN, FP y FN de las predicciones\n",
    "* `Recall` - Cuénta cuantos valores se predijeron de manera correcta, de todos los valores reales positivos (VP/VP+FN)\n",
    "* `Precision` - Cuénta cuantas predicciones correctas se obtuvieron de todos los valores positivos predichos (VP/VP+FP)\n",
    "* `F1 Score` - Mide el balance entre la precisión y el recall\n",
    "* `Accuracy` - Mide la relación que tienen todos los valores de la matriz de confusión. Se fija en la cantidad de valores predichos de manera correcta, ya sea negativos o positivos (VP+VN)/(VP+VN+FP+FN)\n",
    "\n",
    "\n",
    "En este problema tenemos las siguietnes consideraciones:\n",
    "* Contamos con 2 clases distintas: retrasado o no retrasado.\n",
    "* Al momento de realizar la selección de la partición se intentó seleccionar una muestra balanceada, de acuerdo en los restrasos de la aereolínea.\n",
    "\n",
    "En este caso la prioridad del modelo es poder predecir si existe un retraso o no. Por lo que hay que dar prioridad a los VP, VN. La métrica que mejor engloba estos parámetros sería la de Accuracy. \n",
    "\n",
    "De manera secundaria hay que minimizar los FN y no dar mucha importancia a los FP. Es mejor que el modelo tome en consideración a vuelos que tengan un buena probabilidad de atraso, para que la aereolínea pueda tomar esta información de manera interna y programar mejor la logística de los vuleos. Para este caso la mejor métrica sería la de \"recall\".\n",
    "\n",
    "En caso de que queramos minimizar los FP al igual que los FN, la mejor métrica sería el F1. Lo cual también podría convenir en nuestro modelo.\n",
    "\n",
    "Por el momento obtendremos todas las métricas anteriores y para observar el comportamiento de cada una de ellas y ver que nos están diciendo sobre los resultados de nuestro modelo.\n"
   ]
  },
  {
   "cell_type": "markdown",
   "metadata": {
    "id": "84ChlHlfLNdu"
   },
   "source": [
    "# **4. Entrenamiento de Modelos de Aprendizaje**\n",
    "\n"
   ]
  },
  {
   "cell_type": "markdown",
   "metadata": {
    "id": "ab5nCn2aX4hL"
   },
   "source": [
    "### Entrenamiento del modelo"
   ]
  },
  {
   "cell_type": "code",
   "execution_count": 19,
   "metadata": {},
   "outputs": [],
   "source": [
    "from pyspark.ml.classification import GBTClassifier\n",
    "\n",
    "# Inicializar el modelo GBTClassifier\n",
    "gbt = GBTClassifier(featuresCol=\"features\", labelCol=\"DELAY\", maxIter=10, maxBins=400) # Ajusta maxBins a un valor mayor o igual al máximo de categorías\n",
    "\n",
    "# Entrenar el modelo\n",
    "gbt_model = gbt.fit(df_train)"
   ]
  },
  {
   "cell_type": "markdown",
   "metadata": {},
   "source": [
    "### Evaluando Modelos"
   ]
  },
  {
   "cell_type": "code",
   "execution_count": 20,
   "metadata": {},
   "outputs": [
    {
     "name": "stdout",
     "output_type": "stream",
     "text": [
      "\n",
      "----- METRICAS DE EVALUACIÓN -----\n",
      "\n",
      "Área bajo la curva ROC (AUC): 0.8237\n",
      "Accuracy: 0.7793\n",
      "F1 Score: 0.7698\n",
      "Weighted Precision: 0.7914\n",
      "Weighted Recall: 0.7793\n",
      "+---------+--------+\n",
      "|confusion|cantidad|\n",
      "+---------+--------+\n",
      "|       VP|    2256|\n",
      "|       FN|    1648|\n",
      "|       FP|     415|\n",
      "|       VN|    5028|\n",
      "+---------+--------+\n",
      "\n"
     ]
    }
   ],
   "source": [
    "from pyspark.ml.evaluation import BinaryClassificationEvaluator, MulticlassClassificationEvaluator\n",
    "from pyspark.sql.functions import col, when, count\n",
    "\n",
    "# Predicciones\n",
    "predictions = gbt_model.transform(df_test)\n",
    "\n",
    "# Impresión de métricas\n",
    "print(\"\\n----- METRICAS DE EVALUACIÓN -----\\n\")\n",
    "\n",
    "# AUC (Área bajo la curva ROC)\n",
    "evaluator_auc = BinaryClassificationEvaluator(rawPredictionCol=\"rawPrediction\", labelCol=\"DELAY\")\n",
    "auc = evaluator_auc.evaluate(predictions)\n",
    "print(f\"Área bajo la curva ROC (AUC): {auc:.4f}\")\n",
    "\n",
    "# Accuracy, F1, Precision, Recall (ponderados)\n",
    "evaluator_multi = MulticlassClassificationEvaluator(labelCol=\"DELAY\", predictionCol=\"prediction\")\n",
    "\n",
    "accuracy = evaluator_multi.setMetricName(\"accuracy\").evaluate(predictions)\n",
    "f1_score = evaluator_multi.setMetricName(\"f1\").evaluate(predictions)\n",
    "precision = evaluator_multi.setMetricName(\"weightedPrecision\").evaluate(predictions)\n",
    "recall = evaluator_multi.setMetricName(\"weightedRecall\").evaluate(predictions)\n",
    "\n",
    "print(f\"Accuracy: {accuracy:.4f}\")\n",
    "print(f\"F1 Score: {f1_score:.4f}\")\n",
    "print(f\"Weighted Precision: {precision:.4f}\")\n",
    "print(f\"Weighted Recall: {recall:.4f}\")\n",
    "\n",
    "# Construcción de la matriz de confusión manualmente\n",
    "conf_matrix = predictions.select(\n",
    "    when((col(\"DELAY\") == 1) & (col(\"prediction\") == 1), \"VP\").\n",
    "    when((col(\"DELAY\") == 0) & (col(\"prediction\") == 1), \"FP\").\n",
    "    when((col(\"DELAY\") == 0) & (col(\"prediction\") == 0), \"VN\").\n",
    "    when((col(\"DELAY\") == 1) & (col(\"prediction\") == 0), \"FN\").\n",
    "    alias(\"confusion\")\n",
    ").groupBy(\"confusion\").agg(count(\"*\").alias(\"cantidad\"))\n",
    "\n",
    "conf_matrix.show()"
   ]
  },
  {
   "cell_type": "markdown",
   "metadata": {},
   "source": [
    "### Graficando curva ROC"
   ]
  },
  {
   "cell_type": "code",
   "execution_count": 21,
   "metadata": {},
   "outputs": [],
   "source": [
    "from pyspark.sql.functions import col\n",
    "from pyspark.ml.functions import vector_to_array\n",
    "\n",
    "# Extraer la probabilidad de clase 1 (posición 1 del vector)\n",
    "predictions_probability = predictions.withColumn(\n",
    "    \"probability_array\", vector_to_array(\"probability\")\n",
    ").select(\n",
    "    col(\"DELAY\").cast(\"int\").alias(\"label\"),\n",
    "    col(\"probability_array\")[1].alias(\"probability_1\")\n",
    ")"
   ]
  },
  {
   "cell_type": "code",
   "execution_count": 22,
   "metadata": {},
   "outputs": [
    {
     "data": {
      "image/png": "[encoded data removed]",
      "text/plain": [
       "<Figure size 800x600 with 1 Axes>"
      ]
     },
     "metadata": {},
     "output_type": "display_data"
    }
   ],
   "source": [
    "# Convertir a Pandas\n",
    "roc_data = predictions_probability.toPandas()\n",
    "\n",
    "from sklearn.metrics import roc_curve, auc\n",
    "import matplotlib.pyplot as plt\n",
    "\n",
    "# Calcular puntos de la curva ROC\n",
    "fpr, tpr, thresholds = roc_curve(roc_data['label'], roc_data['probability_1'])\n",
    "roc_auc = auc(fpr, tpr)\n",
    "\n",
    "# Graficar\n",
    "plt.figure(figsize=(8, 6))\n",
    "plt.plot(fpr, tpr, color='darkorange', lw=2, label='Curva ROC')\n",
    "plt.plot([0, 1], [0, 1], color='navy', lw=2, linestyle='--')\n",
    "\n",
    "# Agregar texto con el valor AUC en el gráfico\n",
    "plt.text(0.6, 0.2, f'AUC = {roc_auc:.4f}', fontsize=12, bbox=dict(facecolor='white', alpha=0.7))\n",
    "\n",
    "plt.xlabel('Tasa de Falsos Positivos (FPR)')\n",
    "plt.ylabel('Tasa de Verdaderos Positivos (TPR)')\n",
    "plt.title('Curva ROC - GBTClassifier')\n",
    "plt.legend(loc=\"lower right\")\n",
    "plt.grid()\n",
    "plt.show()"
   ]
  },
  {
   "cell_type": "markdown",
   "metadata": {},
   "source": [
    "### Graficar distribución de probabilidades"
   ]
  },
  {
   "cell_type": "code",
   "execution_count": 23,
   "metadata": {},
   "outputs": [],
   "source": [
    "prob_dist = predictions_probability.toPandas()"
   ]
  },
  {
   "cell_type": "code",
   "execution_count": 24,
   "metadata": {},
   "outputs": [
    {
     "data": {
      "image/png": "[encoded data removed]",
      "text/plain": [
       "<Figure size 800x500 with 1 Axes>"
      ]
     },
     "metadata": {},
     "output_type": "display_data"
    }
   ],
   "source": [
    "import seaborn as sns\n",
    "import matplotlib.pyplot as plt\n",
    "\n",
    "plt.figure(figsize=(8, 5))\n",
    "sns.histplot(data=prob_dist, x=\"probability_1\", hue=\"label\", bins=50, kde=True, stat=\"density\", common_norm=False)\n",
    "plt.axvline(x=0.5, color='red', linestyle='--', label='Threshold = 0.5')\n",
    "plt.title(\"Distribución de probabilidades del GBTClassifier\")\n",
    "plt.xlabel(\"Probabilidad predicha (clase 1)\")\n",
    "plt.ylabel(\"Densidad\")\n",
    "plt.legend()\n",
    "plt.grid()\n",
    "plt.show()\n"
   ]
  },
  {
   "cell_type": "markdown",
   "metadata": {},
   "source": [
    "### Graficando variabilidad de metricas conforme al treshold"
   ]
  },
  {
   "cell_type": "code",
   "execution_count": 25,
   "metadata": {},
   "outputs": [
    {
     "name": "stderr",
     "output_type": "stream",
     "text": [
      "C:\\Users\\amcr0\\anaconda3\\envs\\env-pyspark\\Lib\\site-packages\\sklearn\\metrics\\_classification.py:1565: UndefinedMetricWarning: Precision is ill-defined and being set to 0.0 due to no predicted samples. Use `zero_division` parameter to control this behavior.\n",
      "  _warn_prf(average, modifier, f\"{metric.capitalize()} is\", len(result))\n",
      "C:\\Users\\amcr0\\anaconda3\\envs\\env-pyspark\\Lib\\site-packages\\sklearn\\metrics\\_classification.py:1565: UndefinedMetricWarning: Precision is ill-defined and being set to 0.0 due to no predicted samples. Use `zero_division` parameter to control this behavior.\n",
      "  _warn_prf(average, modifier, f\"{metric.capitalize()} is\", len(result))\n",
      "C:\\Users\\amcr0\\anaconda3\\envs\\env-pyspark\\Lib\\site-packages\\sklearn\\metrics\\_classification.py:1565: UndefinedMetricWarning: Precision is ill-defined and being set to 0.0 due to no predicted samples. Use `zero_division` parameter to control this behavior.\n",
      "  _warn_prf(average, modifier, f\"{metric.capitalize()} is\", len(result))\n",
      "C:\\Users\\amcr0\\anaconda3\\envs\\env-pyspark\\Lib\\site-packages\\sklearn\\metrics\\_classification.py:1565: UndefinedMetricWarning: Precision is ill-defined and being set to 0.0 due to no predicted samples. Use `zero_division` parameter to control this behavior.\n",
      "  _warn_prf(average, modifier, f\"{metric.capitalize()} is\", len(result))\n",
      "C:\\Users\\amcr0\\anaconda3\\envs\\env-pyspark\\Lib\\site-packages\\sklearn\\metrics\\_classification.py:1565: UndefinedMetricWarning: Precision is ill-defined and being set to 0.0 due to no predicted samples. Use `zero_division` parameter to control this behavior.\n",
      "  _warn_prf(average, modifier, f\"{metric.capitalize()} is\", len(result))\n"
     ]
    },
    {
     "data": {
      "image/png": "[encoded data removed]",
      "text/plain": [
       "<Figure size 1000x600 with 1 Axes>"
      ]
     },
     "metadata": {},
     "output_type": "display_data"
    }
   ],
   "source": [
    "import numpy as np\n",
    "from sklearn.metrics import precision_score, recall_score, f1_score\n",
    "\n",
    "thresholds = np.arange(0.0, 1.01, 0.01)\n",
    "f1s = []\n",
    "precisions = []\n",
    "recalls = []\n",
    "\n",
    "for t in thresholds:\n",
    "    preds = (prob_dist[\"probability_1\"] >= t).astype(int)\n",
    "    f1s.append(f1_score(prob_dist[\"label\"], preds))\n",
    "    precisions.append(precision_score(prob_dist[\"label\"], preds))\n",
    "    recalls.append(recall_score(prob_dist[\"label\"], preds))\n",
    "\n",
    "# Graficar\n",
    "plt.figure(figsize=(10, 6))\n",
    "plt.plot(thresholds, f1s, label=\"F1 Score\")\n",
    "plt.plot(thresholds, precisions, label=\"Precision\")\n",
    "plt.plot(thresholds, recalls, label=\"Recall\")\n",
    "plt.axvline(x=0.5, color='red', linestyle='--', label='Threshold = 0.5')\n",
    "plt.xlabel(\"Threshold\")\n",
    "plt.ylabel(\"Métrica\")\n",
    "plt.title(\"Métricas vs Threshold\")\n",
    "plt.legend()\n",
    "plt.grid()\n",
    "plt.show()"
   ]
  },
  {
   "cell_type": "markdown",
   "metadata": {
    "id": "F79GIdXALNm3"
   },
   "source": [
    "# **5. Análisis de resultados**\n",
    "\n"
   ]
  },
  {
   "cell_type": "markdown",
   "metadata": {
    "id": "4MqHFfsKXj0j"
   },
   "source": [
    "### *Métricas*\n",
    "#### AUC (ROC)\n",
    "Nos indica que el modelo está diferenciando bien las clases y que está clasificando mejor que el azar, teniendo un valor de 0.8237 con las pruebas anteriores.\n",
    "\n",
    "#### Matríz de Confusión\n",
    "Nos indica que tenemos todas las clasificaciones de nuestro modelo por cantidad de muestras clasificadas correctamente e incorrectamente. Se traduce a que vuelo si se retraso, cual no se retraso y que predicciones de retraso estuvieron correctas e incorrectas.\n",
    "\n",
    "#### Recall\n",
    "Nos indica que un total del\t77.93% de los vuelos realmente retrasados serán detectados por el  modelo.\n",
    "\n",
    "#### Precision\n",
    "Nos indica que un total\tdel 79.14% de los vuelos predichos, efectivamente se habrán retrasado.\n",
    "\n",
    "#### F1 Score\n",
    "Entre mas cercano el valor a 1 nos va a indicar que se reduce la taza de vuelos mal predichos, tanto de manera positiva como negativa.\n",
    "\n",
    "#### Accuracy\n",
    "Nos indica que estamos clasificando de manera correcta un 77.93% de los datos de prueba, por lo que tiene un desempeño óptimo, pero puede mejorar. Esto se traduce que el 77.93% de las predicciones que hagamos, serán correctas. "
   ]
  },
  {
   "cell_type": "markdown",
   "metadata": {},
   "source": [
    "### *Conlcusión*\n",
    "Conforme a las métricas anteriores podemos concluir que hemos reportado un buen desempeño del modelo en general. Esta clasificando de manera correcta los vuelos con un accuracy del 78%. La fortaleca principal del modelo actual se centra en que la metrica más alta es el \"recall\" por lo que hay una mayor proababilidad de que los vuelos que se hayan predicho, efectivamente se hayan retrasado casi con el 80% de certeza. Esto es muy importante para la aerolínea y torre de control porque así podremos peveer si se necesita hacer un cambio en la logística del aereopuerto con antelación a que el vuelo haya despegado o después de su despeuge.\n",
    "\n",
    "Entre las métricas a mejorar sería aumentar el accuracy, ya que para una aereopuerto el porcentaje de éxito podría seguir considerandose bajo. Esto implica una mejora indirecta de todas las metricas. Entre mejorar recall y precision eligiría que es más improtante mejorar el recall porque para el aereopuerto es de mayor importancia garantizar que se están identificando todos los vuelos retrasados (VP+FN).\n",
    "\n",
    "Podríamos en un futuro seguir mejorando el modelo. Para este caso únicamente se tomo como input al modelo la variable `DEP_TIME` y `DEP_DELAY`. Sin embargo hay otras variables que podríamos incluir en el modelo ya que se obtienen antes de que despegue el avión como: `TAXI_OUT`,`WHEELS_OFF`. Para este ejercicio se descartaron ya que se obtienen del calculo de la suma y resta de variables anteriores como `DEP_TIME` y `DEP_DELAY`, por lo que le añadiría un poco de información repetida al modelo. A pesar de ello, se podrían realizar diferentes pruebas seleccionando distintas variables para aumentar el desempeño del mismo.\n",
    "\n",
    "También podríamos sumar complejidad al modelo agregarndo los vuelos que fueron desviados `DIVERTED`, aunque este dato no se conoce hasta que el vuelo esté en curso. "
   ]
  }
 ],
 "metadata": {
  "accelerator": "GPU",
  "colab": {
   "collapsed_sections": [
    "4c34ZOnna3Gu",
    "MfZZ0stLmWJN",
    "ygchEdcKqIzU",
    "1qjKoEqiqBN1",
    "RS0Hxj25vTWh",
    "ToqRl7fT_fn2",
    "W4S7q0yR0Mpi",
    "pibp1LA91CP_",
    "WDIiSHvg0_hm",
    "NbhBUBKJp1MB",
    "YCkh2WfN1MC1"
   ],
   "gpuType": "T4",
   "provenance": []
  },
  "kernelspec": {
   "display_name": "Python 3 (ipykernel)",
   "language": "python",
   "name": "python3"
  },
  "language_info": {
   "codemirror_mode": {
    "name": "ipython",
    "version": 3
   },
   "file_extension": ".py",
   "mimetype": "text/x-python",
   "name": "python",
   "nbconvert_exporter": "python",
   "pygments_lexer": "ipython3",
   "version": "3.12.9"
  }
 },
 "nbformat": 4,
 "nbformat_minor": 4
}
